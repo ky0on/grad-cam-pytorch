{
 "cells": [
  {
   "cell_type": "code",
   "execution_count": null,
   "metadata": {},
   "outputs": [],
   "source": [
    "from __future__ import print_function\n",
    "\n",
    "import click\n",
    "import cv2\n",
    "import numpy as np\n",
    "import torch\n",
    "from torch.autograd import Variable\n",
    "from torchvision import models, transforms\n",
    "\n",
    "from grad_cam import (BackPropagation, Deconvolution, GradCAM, GuidedBackPropagation)"
   ]
  },
  {
   "cell_type": "code",
   "execution_count": null,
   "metadata": {},
   "outputs": [],
   "source": [
    "image_path = 'samples/cat_dog.png'\n",
    "cuda = True\n",
    "arch = 'resnet152'\n",
    "topk = 3\n",
    "\n",
    "CONFIG = {\n",
    "    'resnet152': {\n",
    "        'target_layer': 'layer4.2',\n",
    "        'input_size': 224\n",
    "    },\n",
    "    'vgg19': {\n",
    "        'target_layer': 'features.36',\n",
    "        'input_size': 224\n",
    "    },\n",
    "    'vgg19_bn': {\n",
    "        'target_layer': 'features.52',\n",
    "        'input_size': 224\n",
    "    },\n",
    "    'inception_v3': {\n",
    "        'target_layer': 'Mixed_7c',\n",
    "        'input_size': 299\n",
    "    },\n",
    "    'densenet201': {\n",
    "        'target_layer': 'features.denseblock4',\n",
    "        'input_size': 224\n",
    "    },\n",
    "    # Add your model\n",
    "}.get(arch)"
   ]
  },
  {
   "cell_type": "code",
   "execution_count": null,
   "metadata": {},
   "outputs": [],
   "source": [
    "device = torch.device('cuda' if cuda and torch.cuda.is_available() else 'cpu')\n",
    "\n",
    "if cuda:\n",
    "    current_device = torch.cuda.current_device()\n",
    "    print('Running on the GPU:', torch.cuda.get_device_name(current_device))\n",
    "else:\n",
    "    print('Running on the CPU')"
   ]
  },
  {
   "cell_type": "code",
   "execution_count": null,
   "metadata": {},
   "outputs": [],
   "source": [
    "# Synset words\n",
    "classes = list()\n",
    "with open('samples/synset_words.txt') as lines:\n",
    "    for line in lines:\n",
    "        line = line.strip().split(' ', 1)[1]\n",
    "        line = line.split(', ', 1)[0].replace(' ', '_')\n",
    "        classes.append(line)"
   ]
  },
  {
   "cell_type": "code",
   "execution_count": null,
   "metadata": {
    "scrolled": true
   },
   "outputs": [],
   "source": [
    "# Model\n",
    "model = models.__dict__[arch](pretrained=True)\n",
    "model.to(device)\n",
    "model.eval()"
   ]
  },
  {
   "cell_type": "code",
   "execution_count": null,
   "metadata": {},
   "outputs": [],
   "source": [
    "# Image\n",
    "raw_image = cv2.imread(image_path)[..., ::-1]\n",
    "raw_image = cv2.resize(raw_image, (CONFIG['input_size'], ) * 2)\n",
    "image = transforms.Compose([\n",
    "    transforms.ToTensor(),\n",
    "    transforms.Normalize(\n",
    "        mean=[0.485, 0.456, 0.406],\n",
    "        std=[0.229, 0.224, 0.225],\n",
    "    )\n",
    "])(raw_image).unsqueeze(0)"
   ]
  },
  {
   "cell_type": "code",
   "execution_count": null,
   "metadata": {},
   "outputs": [],
   "source": [
    "def save_gradcam(filename, gcam, raw_image):\n",
    "    h, w, _ = raw_image.shape\n",
    "    gcam = cv2.resize(gcam.copy(), (w, h))\n",
    "    gcam = cv2.applyColorMap(np.uint8(gcam * 255.0), cv2.COLORMAP_AUTUMN)\n",
    "    gcam = gcam.astype(np.float) + raw_image.astype(np.float)\n",
    "    gcam = gcam / gcam.max() * 255.0\n",
    "    # cv2.imwrite(filename, np.uint8(gcam))\n",
    "    return np.uint8(gcam)\n",
    "\n",
    "def save_gradient(filename, data):\n",
    "    data = data.copy()\n",
    "    data -= data.min()\n",
    "    data /= data.max()\n",
    "    data *= 255.0\n",
    "    # cv2.imwrite(filename, np.uint8(data))\n",
    "    return np.uint8(data)"
   ]
  },
  {
   "cell_type": "code",
   "execution_count": null,
   "metadata": {
    "scrolled": false
   },
   "outputs": [],
   "source": [
    "gcam = GradCAM(model=model)\n",
    "_, _ = gcam.forward(image.to(device))\n",
    "\n",
    "gbp = GuidedBackPropagation(model=model)\n",
    "probs, idx = gbp.forward(image.to(device))\n",
    "\n",
    "for i in range(0, topk):\n",
    "    print('[{:.5f}] {}'.format(probs[i], classes[idx[i]]))\n",
    "    \n",
    "    #gcam\n",
    "    gcam.backward(idx=idx[i])\n",
    "    region = gcam.generate(target_layer=CONFIG['target_layer'])\n",
    "    gcam_image = save_gradcam(None, region, raw_image)\n",
    "\n",
    "    #gbp\n",
    "    gbp.backward(idx=idx[i])\n",
    "    feature = gbp.generate()\n",
    "    gbp_image = save_gradient(None, feature)\n",
    "\n",
    "    #g-gcam\n",
    "    h, w, _ = feature.shape\n",
    "    region = cv2.resize(region, (w, h))[..., np.newaxis]\n",
    "    output = feature * region\n",
    "    ggcam_image = save_gradient(None, output)\n",
    "    \n",
    "    fig, axes = plt.subplots(1, 4, figsize=(15, 5))\n",
    "    axes[0].imshow(raw_image)\n",
    "    axes[1].imshow(gcam_image)\n",
    "    axes[2].imshow(gbp_image)\n",
    "    axes[3].imshow(ggcam_image)\n",
    "    for ax in axes:\n",
    "        ax.axis('off')"
   ]
  }
 ],
 "metadata": {
  "kernelspec": {
   "display_name": "Python 3",
   "language": "python",
   "name": "python3"
  },
  "language_info": {
   "codemirror_mode": {
    "name": "ipython",
    "version": 3
   },
   "file_extension": ".py",
   "mimetype": "text/x-python",
   "name": "python",
   "nbconvert_exporter": "python",
   "pygments_lexer": "ipython3",
   "version": "3.6.7"
  },
  "toc": {
   "nav_menu": {},
   "number_sections": true,
   "sideBar": true,
   "skip_h1_title": false,
   "title_cell": "Table of Contents",
   "title_sidebar": "Contents",
   "toc_cell": false,
   "toc_position": {},
   "toc_section_display": true,
   "toc_window_display": false
  }
 },
 "nbformat": 4,
 "nbformat_minor": 2
}
